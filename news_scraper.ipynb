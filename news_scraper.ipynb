{
 "cells": [
  {
   "cell_type": "markdown",
   "metadata": {},
   "source": [
    "# Get financial news articles from NEWS API\n",
    "\n"
   ]
  },
  {
   "cell_type": "code",
   "execution_count": 5,
   "metadata": {},
   "outputs": [],
   "source": [
    "import requests\n",
    "import pandas as pd"
   ]
  },
  {
   "cell_type": "code",
   "execution_count": 4,
   "metadata": {},
   "outputs": [
    {
     "name": "stdout",
     "output_type": "stream",
     "text": [
      "1 Trump secures White House comeback victory, defeating Harris\n",
      "2 Facing uncertain fate under Trump, Ukraine appeals to his 'strength'\n",
      "3 UN nuclear watchdog chief says he may head to Iran soon as Trump return looms\n",
      "4 Trump could harden Iran oil stance but struggle to stem flow to China, analysts say\n",
      "5 Hezbollah chief says indirect truce talks only possible if Israel stops attacks\n",
      "6 Europe's leaders congratulate Trump, amid worries over trade, Ukraine\n",
      "7 UN signals to Israel: Replacing UNRWA would be your responsibility\n",
      "8 Trump's victory adds to Trudeau's challenges in Canada\n",
      "9 Harris called Trump to concede US presidential election, aides say\n",
      "10 US expands sanctions against Bosnian Serb leader's network\n"
     ]
    }
   ],
   "source": [
    "def MarketWatchNews(keywords=None, from_date='2019-11-06', to_date='2024-11-06'):\n",
    "    # Updated to use v2 of NewsAPI which has more features\n",
    "    main_url = 'https://newsapi.org/v2/everything'\n",
    "    \n",
    "    # Define major stock market players\n",
    "    if keywords is None:\n",
    "        keywords = [\n",
    "            'Microsoft', 'Google', 'Amazon', 'NVIDIA', 'Berkshire Hathaway', 'Linde plc','Eli Lilly',\n",
    "            'NextEra Energy', 'Prologis', 'GE Aerospace', 'Walmart']\n",
    "    \n",
    "    \n",
    "    all_results = []\n",
    "    # Iterate through each company to get news articles about each\n",
    "    for company in keywords:\n",
    "        query_params = {\n",
    "            'q': company,\n",
    "            'domains': 'marketwatch.com',\n",
    "            'from': from_date,\n",
    "            'to': to_date,\n",
    "            'language': 'en',\n",
    "            'sortBy': 'publishedAt',\n",
    "            'apiKey': 'b99f871c1d5d408db066d90944855474'\n",
    "        }\n",
    "        \n",
    "        # Fetch data\n",
    "        res = requests.get(main_url, params=query_params)\n",
    "        news_data = res.json()\n",
    "        \n",
    "        # Check if request was successful\n",
    "        if res.status_code != 200:\n",
    "            print(f\"Error fetching news for {company}: {news_data.get('message')}\")\n",
    "            continue\n",
    "            \n",
    "        # Get articles\n",
    "        articles = news_data.get('articles', [])\n",
    "        \n",
    "        # Process articles\n",
    "        for article in articles:\n",
    "            result = {\n",
    "                'company': company,\n",
    "                'title': article['title'],\n",
    "                'published_date': article['publishedAt'],\n",
    "                'url': article['url'],\n",
    "                'description': article['description']\n",
    "            }\n",
    "            all_results.append(result)\n",
    "    \n",
    "    # Convert to DataFrame for better visualization\n",
    "    df = pd.DataFrame(all_results)\n",
    "    \n",
    "    # Sort by published date\n",
    "    df['published_date'] = pd.to_datetime(df['published_date'])\n",
    "    df = df.sort_values('published_date', ascending=False)\n",
    "    \n",
    "    return df\n",
    "\n",
    "# Example usage\n",
    "if __name__ == '__main__':\n",
    "    # Get news for all companies\n",
    "    news_df = NewsFromReuters()\n",
    "    print(news_df)\n",
    "    \n",
    "    # Or get news for specific companies\n",
    "    specific_companies = ['Apple', 'Microsoft']\n",
    "    specific_news = NewsFromReuters(keywords=specific_companies)\n",
    "    print(specific_news)"
   ]
  },
  {
   "cell_type": "code",
   "execution_count": null,
   "metadata": {},
   "outputs": [],
   "source": []
  }
 ],
 "metadata": {
  "kernelspec": {
   "display_name": "project_4_env",
   "language": "python",
   "name": "python3"
  },
  "language_info": {
   "codemirror_mode": {
    "name": "ipython",
    "version": 3
   },
   "file_extension": ".py",
   "mimetype": "text/x-python",
   "name": "python",
   "nbconvert_exporter": "python",
   "pygments_lexer": "ipython3",
   "version": "3.11.10"
  }
 },
 "nbformat": 4,
 "nbformat_minor": 2
}
